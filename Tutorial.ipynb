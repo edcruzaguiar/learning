{
  "nbformat": 4,
  "nbformat_minor": 0,
  "metadata": {
    "colab": {
      "name": "Untitled0.ipynb",
      "provenance": [],
      "authorship_tag": "ABX9TyPGoGHOA96YqqRxGv4HKzzi",
      "include_colab_link": true
    },
    "kernelspec": {
      "name": "python3",
      "display_name": "Python 3"
    }
  },
  "cells": [
    {
      "cell_type": "markdown",
      "metadata": {
        "id": "view-in-github",
        "colab_type": "text"
      },
      "source": [
        "<a href=\"https://colab.research.google.com/github/edcruzaguiar/learning/blob/master/Tutorial.ipynb\" target=\"_parent\"><img src=\"https://colab.research.google.com/assets/colab-badge.svg\" alt=\"Open In Colab\"/></a>"
      ]
    },
    {
      "cell_type": "code",
      "metadata": {
        "id": "h_jhxFfy6AYL",
        "colab_type": "code",
        "colab": {
          "base_uri": "https://localhost:8080/",
          "height": 136
        },
        "outputId": "54f247ee-42ae-4ccb-e635-62036d743be4"
      },
      "source": [
        "# Tutorial 01\n",
        "# Variables, Operators, Input and Output\n",
        "#\n",
        "# Let the user input 2 numbers and store it in variables\n",
        "num1 = int(input('Digite um número: '))\n",
        "\n",
        "num2 = int(input('Digite outro número: '))\n",
        "\n",
        "# Operate with these numbers: Add, Sub, Multiply, Divide and Power of\n",
        "add = num1 + num2\n",
        "sub = num1 - num2\n",
        "mult = num1 * num2\n",
        "div = num1 / num2\n",
        "pow = num1 ** num2\n",
        "\n",
        "\n",
        "# Print the outputs\n",
        "print('Add result is: ' + str(add))\n",
        "print('Sub result is: ' + str(sub))\n",
        "print('Mult result is: ' + str(mult))\n",
        "print('Div result is: ' + str(div))\n",
        "print('Power result is: ' + str(pow))"
      ],
      "execution_count": 3,
      "outputs": [
        {
          "output_type": "stream",
          "text": [
            "Digite um número: 5\n",
            "Digite outro número: 2\n",
            "Add result is: 7\n",
            "Sub result is: 3\n",
            "Mult result is: 10\n",
            "Div result is: 2.5\n",
            "Power result is: 25\n"
          ],
          "name": "stdout"
        }
      ]
    },
    {
      "cell_type": "code",
      "metadata": {
        "id": "0rCAWBzI7JxQ",
        "colab_type": "code",
        "colab": {
          "base_uri": "https://localhost:8080/",
          "height": 68
        },
        "outputId": "9af4d4bf-5563-4b4c-8691-c39acfcf0262"
      },
      "source": [
        "## if Else statements\n",
        "\n",
        "# Lets input your age\n",
        "idade = int(input('Qual é a sua Idade (em anos)? '))\n",
        "\n",
        "# If check for number in range of 0 and 150\n",
        "# 1. Possibility?\n",
        "# Não inclui 150\n",
        "if(idade < 0 or idade > 150):\n",
        "  print('Impossível algum ser humano com esta idade!')\n",
        "\n",
        "# 2. Possibility (significa: 0...149)\n",
        "if idade not in range(0, 150):\n",
        "  print('Fora do Intervalo Aceitável!')\n",
        "\n",
        "# Do something else\n",
        "else:\n",
        "  print('Vocês passou pela verificação de idade. Você tem: ' + str(idade) + \" anos.\")\n",
        "\n",
        "  if idade <= 12:\n",
        "    print('Você é uma criança')\n",
        "  elif idade >  12 and idade < 18:\n",
        "    print('Você é adolescente')\n",
        "  elif idade >= 18 and idade < 30:\n",
        "    print('Você é um jovem adulto')\n",
        "  else:\n",
        "    print('Você já tem experiência de vida')"
      ],
      "execution_count": 15,
      "outputs": [
        {
          "output_type": "stream",
          "text": [
            "Qual é a sua Idade (em anos)? 37\n",
            "Vocês passou pela verificação de idade. Você tem: 37 anos.\n",
            "Você já tem experiência de vida\n"
          ],
          "name": "stdout"
        }
      ]
    },
    {
      "cell_type": "code",
      "metadata": {
        "id": "165SMyAs93iq",
        "colab_type": "code",
        "colab": {}
      },
      "source": [
        ""
      ],
      "execution_count": 0,
      "outputs": []
    }
  ]
}